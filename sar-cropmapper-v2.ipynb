{
 "cells": [
  {
   "cell_type": "markdown",
   "id": "eb1f24fc",
   "metadata": {},
   "source": [
    "# ASTI-ALaM Implementation for DTW-Based Crop Mapping\n",
    "## Using DTAIDistance module from KU Leuven\n",
    "https://dtaidistance.readthedocs.io/en/latest/usage/dtw.html\n",
    "\n",
    "## Version 1.0β2"
   ]
  },
  {
   "cell_type": "markdown",
   "id": "6a9fdd9c",
   "metadata": {},
   "source": [
    "### Notable Changes\n",
    "- Isolated the functions into their respective .py files for better organization of contents"
   ]
  },
  {
   "cell_type": "markdown",
   "id": "677fe3e7-5a9d-4b89-935e-4ee753d17c41",
   "metadata": {},
   "source": [
    "# Initializations"
   ]
  },
  {
   "cell_type": "markdown",
   "id": "0d70b68a",
   "metadata": {},
   "source": [
    "## Via classic module imports"
   ]
  },
  {
   "cell_type": "code",
   "execution_count": null,
   "id": "e21debe8",
   "metadata": {},
   "outputs": [],
   "source": [
    "import geopandas as gpd\n",
    "from geocube.api.core import make_geocube # module for conversion of vectors into rasters\n",
    "import altair as alt # module for plot charting\n",
    "\n",
    "from modules.generate_temporal_signature import generate_temporal_signature\n",
    "from modules.generate_test_dataset import generate_test_dataset\n",
    "from modules.generate_accumulated_distance_cost_map import generate_accumulated_distance_cost_map\n",
    "\n",
    "%matplotlib inline"
   ]
  },
  {
   "cell_type": "markdown",
   "id": "952ff937",
   "metadata": {},
   "source": [
    "## Via importlib (currently not working)"
   ]
  },
  {
   "cell_type": "code",
   "execution_count": null,
   "id": "cb2ec1a3",
   "metadata": {},
   "outputs": [],
   "source": [
    "# import importlib\n",
    "# import geopandas as gpd\n",
    "# from geocube.api.core import make_geocube # module for conversion of vectors into rasters\n",
    "# import altair as alt # module for plot charting\n",
    "\n",
    "# generate_temporal_signature = importlib.import_module('.generate_temporal_signature', 'modules')\n",
    "# generate_test_dataset = importlib.import_module('.generate_test_dataset', 'modules')\n",
    "# generate_accumulated_distance_cost_map = importlib.import_module('.generate_accumulated_distance_cost_map', 'modules')\n",
    "\n",
    "# %matplotlib inline"
   ]
  },
  {
   "cell_type": "markdown",
   "id": "e4b9eaf4",
   "metadata": {},
   "source": [
    "## Sentinel-1 parameter configurations"
   ]
  },
  {
   "cell_type": "code",
   "execution_count": null,
   "id": "c876c6cc",
   "metadata": {},
   "outputs": [],
   "source": [
    "SCAN_MODE = \"dsc\" # \"asc\" for ascending orbit, \"dsc\" for descending orbit\n",
    "BAND = 2 # 1 = VV, 2 = VH, 3 = angle"
   ]
  },
  {
   "cell_type": "markdown",
   "id": "4d9c5357",
   "metadata": {},
   "source": [
    "## DTW parameter configurations"
   ]
  },
  {
   "cell_type": "code",
   "execution_count": null,
   "id": "f15066be",
   "metadata": {},
   "outputs": [],
   "source": [
    "DTW_WINDOW_SIZE = 3 # allowance for dynamic diagonal shifting, using 1 will make the algorithm calculate the Euclidean distance\n",
    "DTW_PSI = 2 # # PSI (Prefix and Suffix-Invariant) relaxation parameter\n",
    "DTW_MAX_DIST = float(\"inf\") # avoid computing partial paths that will be larger than this value, returning infinity\n",
    "DTW_USE_PRUNING = True # automates determination of the above MAX_DIST parameter\n",
    "DTW_USE_C = False # DTAIdistance-exclusive call to use pure C-based compiled functions (default is False)\n",
    "\n",
    "DTW_COST_THRESHOLD = 20 # maximum allowable distance cost threshold before pixels are masked out of the final map"
   ]
  },
  {
   "cell_type": "markdown",
   "id": "7cb149e5",
   "metadata": {},
   "source": [
    "## Data directory configurations"
   ]
  },
  {
   "cell_type": "code",
   "execution_count": null,
   "id": "1475b8fd",
   "metadata": {},
   "outputs": [],
   "source": [
    "CROP_REFERENCE_GEOMETRY_DIR = \"shp/\" # Set directory for features program will use to generate a reference temporal signature\n",
    "STUDY_AREA_GEOMETRY_DIR = \"shp/\" # Set directory for the boundaries of your study area\n",
    "CROP_REFERENCE_CATALOG = \"img_data/\" # Set directory for the catalog of time-series Sentinel-1 images to extract the reference temporal signature\n",
    "CROP_TEST_CATALOG = \"img_data/\" # Set directory for the catalog of time-series Sentinel-1 images to compare with the reference temporal signature\n",
    "\n",
    "DATE_FORMAT = \"%Y-%m-%d\" # Date format to use to derive date information from image filenames"
   ]
  },
  {
   "cell_type": "code",
   "execution_count": null,
   "id": "2d3db3b3",
   "metadata": {},
   "outputs": [],
   "source": [
    "# Shapefile for for generating reference temporal signature\n",
    "CROP_REFERENCE_TYPE = \"Your crop\" # to be appended in the output filename\n",
    "CROP_REFERENCE_GEOMETRY = gpd.read_file(CROP_REFERENCE_GEOMETRY_DIR)\n",
    "\n",
    "# Study area boundary shapefile\n",
    "STUDY_AREA_NAME = \"Your study area\" # to be appended in the output filename\n",
    "STUDY_AREA_GEOM = gpd.read_file(STUDY_AREA_GEOMETRY_DIR)\n",
    "\n",
    "# Preprocessed Sentinel-1 reference and test data paths\n",
    "CROP_REFERENCE_YEAR = '2018' # to be appended in the output filename as r(year)\n",
    "CROP_REFERENCE_FOLDER_PATH = CROP_REFERENCE_CATALOG + \"_\" + CROP_REFERENCE_YEAR\n",
    "START_OF_CROP_REFERENCE_YEAR = CROP_REFERENCE_YEAR + '-01-01'\n",
    "\n",
    "TEST_YEAR = '2017' # to be appended in the output filename as t(year)\n",
    "TEST_FOLDER_PATH = CROP_TEST_CATALOG + \"_\" + TEST_YEAR\n",
    "START_OF_TEST_YEAR = TEST_YEAR + '-01-01'"
   ]
  },
  {
   "cell_type": "markdown",
   "id": "edef5351-4ec7-473e-b73a-b71f2161f536",
   "metadata": {},
   "source": [
    "# The Main Body"
   ]
  },
  {
   "cell_type": "markdown",
   "id": "16e3dab9",
   "metadata": {},
   "source": [
    "## Creating the reference temporal signature based on scan mode"
   ]
  },
  {
   "cell_type": "code",
   "execution_count": null,
   "id": "4b1f2218-d69e-4572-ab3a-e28c0e8496e3",
   "metadata": {},
   "outputs": [],
   "source": [
    "crop_reference_temporal_signature_1D, crop_reference_temporal_signature_df = \\\n",
    "    generate_temporal_signature(BAND,\n",
    "                                SCAN_MODE,\n",
    "                                START_OF_CROP_REFERENCE_YEAR,\n",
    "                                DATE_FORMAT,\n",
    "                                CROP_REFERENCE_FOLDER_PATH,\n",
    "                                CROP_REFERENCE_GEOMETRY)\n",
    "\n",
    "alt.Chart(crop_reference_temporal_signature_df).mark_line().encode(\n",
    "    x = 'days',\n",
    "    y = 'band ' + str(BAND)\n",
    ")"
   ]
  },
  {
   "cell_type": "markdown",
   "id": "661185f1",
   "metadata": {},
   "source": [
    "## Preparing the test dataset"
   ]
  },
  {
   "cell_type": "code",
   "execution_count": null,
   "id": "b376e4d8",
   "metadata": {},
   "outputs": [],
   "source": [
    "test_data_list, IMG_DIMENSIONS, LON_INCREMENT, LAT_INCREMENT = generate_test_dataset(BAND,\n",
    "                                                                                     SCAN_MODE,\n",
    "                                                                                     TEST_FOLDER_PATH,\n",
    "                                                                                     STUDY_AREA_GEOM)"
   ]
  },
  {
   "cell_type": "markdown",
   "id": "0cb435d3",
   "metadata": {},
   "source": [
    "## Generation of accumulated distance cost map"
   ]
  },
  {
   "cell_type": "code",
   "execution_count": null,
   "id": "432859f7",
   "metadata": {},
   "outputs": [],
   "source": [
    "accumulated_distance_cost_map_df = generate_accumulated_distance_cost_map(test_data_list,\n",
    "                                                                          BAND,\n",
    "                                                                          STUDY_AREA_GEOM,\n",
    "                                                                          START_OF_TEST_YEAR,\n",
    "                                                                          DATE_FORMAT,\n",
    "                                                                          crop_reference_temporal_signature_1D,\n",
    "                                                                          DTW_WINDOW_SIZE,\n",
    "                                                                          DTW_PSI,\n",
    "                                                                          DTW_MAX_DIST,\n",
    "                                                                          DTW_USE_PRUNING,\n",
    "                                                                          IMG_DIMENSIONS,\n",
    "                                                                          LON_INCREMENT,\n",
    "                                                                          LAT_INCREMENT)"
   ]
  },
  {
   "cell_type": "code",
   "execution_count": null,
   "id": "c9cc1d6a",
   "metadata": {},
   "outputs": [],
   "source": [
    "accumulated_distance_cost_map_df"
   ]
  },
  {
   "cell_type": "markdown",
   "id": "18a6a6ba",
   "metadata": {},
   "source": [
    "# Output Generation"
   ]
  },
  {
   "cell_type": "markdown",
   "id": "1e8186b9",
   "metadata": {},
   "source": [
    "## Generates the full map"
   ]
  },
  {
   "cell_type": "code",
   "execution_count": null,
   "id": "98000c4c",
   "metadata": {},
   "outputs": [],
   "source": [
    "accumulated_distance_cost_map_gdf = gpd.GeoDataFrame(\n",
    "    accumulated_distance_cost_map_df, geometry=gpd.points_from_xy(\n",
    "        accumulated_distance_cost_map_df.longitude, accumulated_distance_cost_map_df.latitude), crs=\"EPSG:4326\"\n",
    ")\n",
    "\n",
    "# Conversion to raster form\n",
    "out_grid = make_geocube(\n",
    "    vector_data=accumulated_distance_cost_map_gdf,\n",
    "    measurements=['distance_cost'],\n",
    "    resolution=(-LON_INCREMENT, LAT_INCREMENT),\n",
    ")\n",
    "\n",
    "output_filename = \"out/distmap_\" + STUDY_AREA_NAME + \"_\" + CROP_REFERENCE_TYPE + \"_\" + SCAN_MODE +  \"_b\" + str(BAND) + \\\n",
    "    \"_refpclyear\"+ str(CROP_REFERENCE_YEAR) + \"_testyear\"+ str(TEST_YEAR) + \"_dtw_ws\" + str(DTW_WINDOW_SIZE) + \\\n",
    "    \"_psi\" + str(DTW_PSI) + \"_pr\" + str(DTW_USE_PRUNING) + \"_C\" + str(DTW_USE_C) + \"_full.tif\"\n",
    "out_grid.rio.to_raster(output_filename)"
   ]
  },
  {
   "cell_type": "markdown",
   "id": "b5cd3af8",
   "metadata": {},
   "source": [
    "## Generates the map with cost threshold"
   ]
  },
  {
   "cell_type": "code",
   "execution_count": null,
   "id": "00ef242f",
   "metadata": {},
   "outputs": [],
   "source": [
    "MAP_COST_THRESHOLD = 20\n",
    "\n",
    "accumulated_distance_cost_map_gdf_thr = accumulated_distance_cost_map_gdf[\n",
    "    accumulated_distance_cost_map_gdf.distance_cost <= MAP_COST_THRESHOLD]\n",
    "\n",
    "# Conversion to raster form\n",
    "out_grid = make_geocube(\n",
    "    vector_data=accumulated_distance_cost_map_gdf_thr,\n",
    "    measurements=['distance_cost'],\n",
    "    resolution=(-LON_INCREMENT, LAT_INCREMENT),\n",
    ")\n",
    "\n",
    "output_filename = \"out/distmap_\" + STUDY_AREA_NAME + \"_\" + CROP_REFERENCE_TYPE + \"_\" + SCAN_MODE +  \"_b\" + str(BAND) + \\\n",
    "    \"_refpclyear\"+ str(CROP_REFERENCE_YEAR) + \"_testyear\"+ str(TEST_YEAR) + \"_dtw_ws\" + str(DTW_WINDOW_SIZE) + \\\n",
    "    \"_psi\" + str(DTW_PSI) + \"_pr\" + str(DTW_USE_PRUNING) + \"_C\" + str(DTW_USE_C) + \"_t\" + str(MAP_COST_THRESHOLD) + \".tif\"\n",
    "out_grid.rio.to_raster(output_filename)"
   ]
  },
  {
   "cell_type": "code",
   "execution_count": null,
   "id": "a9dbff9b",
   "metadata": {},
   "outputs": [],
   "source": []
  }
 ],
 "metadata": {
  "kernelspec": {
   "display_name": "Python 3 (ipykernel)",
   "language": "python",
   "name": "python3"
  },
  "language_info": {
   "codemirror_mode": {
    "name": "ipython",
    "version": 3
   },
   "file_extension": ".py",
   "mimetype": "text/x-python",
   "name": "python",
   "nbconvert_exporter": "python",
   "pygments_lexer": "ipython3",
   "version": "3.9.12"
  }
 },
 "nbformat": 4,
 "nbformat_minor": 5
}
