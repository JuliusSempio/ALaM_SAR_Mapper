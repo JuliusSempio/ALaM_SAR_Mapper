{
 "cells": [
  {
   "cell_type": "markdown",
   "id": "eb1f24fc",
   "metadata": {},
   "source": [
    "# ASTI-ALaM Implementation for DTW-Based Crop Mapping\n",
    "## Using DTAIDistance module from KU Leuven\n",
    "https://dtaidistance.readthedocs.io/en/latest/usage/dtw.html\n",
    "\n",
    "## Version 1.0β1"
   ]
  },
  {
   "cell_type": "markdown",
   "id": "e355e27a",
   "metadata": {},
   "source": [
    "### Notable Changes\n",
    "- Transformed sequential mother code contents into functions"
   ]
  },
  {
   "cell_type": "markdown",
   "id": "677fe3e7-5a9d-4b89-935e-4ee753d17c41",
   "metadata": {},
   "source": [
    "# Initializations"
   ]
  },
  {
   "cell_type": "markdown",
   "id": "0d70b68a",
   "metadata": {},
   "source": [
    "## Modules"
   ]
  },
  {
   "cell_type": "code",
   "execution_count": null,
   "id": "e21debe8",
   "metadata": {},
   "outputs": [],
   "source": [
    "# Core geostatistical modules\n",
    "import pandas as pd\n",
    "import geopandas as gpd\n",
    "import numpy as np\n",
    "\n",
    "# Formatting modules\n",
    "import os, glob\n",
    "import datetime as dt\n",
    "import re # module for extracting and tabulating date information from filename\n",
    "from tqdm import tqdm # module for visual progress bars\n",
    "import warnings # module for suppressing currently annoying Pandas update warnings\n",
    "warnings.simplefilter(action='ignore', category=FutureWarning)\n",
    "\n",
    "# Data preparation and processing modules\n",
    "import math # module for quick detection of NaN pixels\n",
    "import rioxarray as rxr # module for xarray-based recording of GeoTIFF data\n",
    "import xarray as xr\n",
    "from geocube.api.core import make_geocube # module for conversion of vectors into rasters\n",
    "from dtaidistance import dtw # the mother module for obtaining the distance accumulated cost\n",
    "from dtaidistance import dtw_ndim # accessory module for testing multi-dimensional DTW\n",
    "\n",
    "# Data plotting and visualization modules\n",
    "from rasterio.plot import plotting_extent # module for obtaining bounding boxes based on trimmed image\n",
    "import earthpy.plot as ep # module for fast plotting of GeoTIFF images\n",
    "import matplotlib.pyplot as plt\n",
    "import altair as alt # module for plot charting\n",
    "from dtaidistance import dtw_visualisation as dtwvis # accessory module for visualizing DTW results\n",
    "from IPython.display import Image # module for displaying image outputs in Jupyter\n",
    "\n",
    "%matplotlib inline"
   ]
  },
  {
   "cell_type": "markdown",
   "id": "e4b9eaf4",
   "metadata": {},
   "source": [
    "## Sentinel-1 parameter configurations"
   ]
  },
  {
   "cell_type": "code",
   "execution_count": null,
   "id": "c876c6cc",
   "metadata": {},
   "outputs": [],
   "source": [
    "SCAN_MODE = \"dsc\" # \"asc\" for ascending orbit, \"dsc\" for descending orbit\n",
    "BAND = 2 # 1 = VV, 2 = VH, 3 = angle"
   ]
  },
  {
   "cell_type": "markdown",
   "id": "4d9c5357",
   "metadata": {},
   "source": [
    "## DTW parameter configurations"
   ]
  },
  {
   "cell_type": "code",
   "execution_count": null,
   "id": "f15066be",
   "metadata": {},
   "outputs": [],
   "source": [
    "DTW_WINDOW_SIZE = 5 # allowance for dynamic diagonal shifting, using 1 will make the algorithm calculate the Euclidean distance\n",
    "DTW_PSI = 2 # PSI (Prefix and Suffix-Invariant) relaxation parameter\n",
    "DTW_MAX_DIST = float(\"inf\") # avoid computing partial paths that will be larger than this value, returning infinity\n",
    "DTW_USE_PRUNING = True # automates determination of the above MAX_DIST parameter\n",
    "DTW_USE_C = True # DTAIdistance-exclusive call to use pure C-based compiled functions (default is False)\n",
    "# NOTE: to use DTW_USE_C, the array inputs must be of type np.double\n",
    "\n",
    "DTW_COST_THRESHOLD = 20 # maximum allowable distance cost threshold before pixels are masked out of the final map"
   ]
  },
  {
   "cell_type": "markdown",
   "id": "7cb149e5",
   "metadata": {},
   "source": [
    "## Data directory configurations"
   ]
  },
  {
   "cell_type": "code",
   "execution_count": null,
   "id": "f6a8c585",
   "metadata": {},
   "outputs": [],
   "source": [
    "CROP_REFERENCE_GEOMETRY_DIR = \"shp/\" # Set directory for features program will use to generate a reference temporal signature\n",
    "STUDY_AREA_GEOMETRY_DIR = \"shp/\" # Set directory for the boundaries of your study area\n",
    "CROP_REFERENCE_CATALOG = \"img_data/\" # Set directory for the catalog of time-series Sentinel-1 images to extract the reference temporal signature\n",
    "CROP_TEST_CATALOG = \"img_data/\" # Set directory for the catalog of time-series Sentinel-1 images to compare with the reference temporal signature\n",
    "\n",
    "DATE_FORMAT = \"%Y-%m-%d\" # Date format to use to derive date information from image filenames"
   ]
  },
  {
   "cell_type": "code",
   "execution_count": null,
   "id": "2d3db3b3",
   "metadata": {},
   "outputs": [],
   "source": [
    "# Shapefile for for generating reference temporal signature\n",
    "CROP_REFERENCE_TYPE = \"Your crop\" # to be appended in the output filename\n",
    "CROP_REFERENCE_GEOMETRY = gpd.read_file(CROP_REFERENCE_GEOMETRY_DIR)\n",
    "\n",
    "# Study area boundary shapefile\n",
    "STUDY_AREA_NAME = \"Your study area\" # to be appended in the output filename\n",
    "STUDY_AREA_GEOM = gpd.read_file(STUDY_AREA_GEOMETRY_DIR)\n",
    "\n",
    "# Preprocessed Sentinel-1 reference and test data paths\n",
    "CROP_REFERENCE_YEAR = '2018' # to be appended in the output filename as r(year)\n",
    "CROP_REFERENCE_FOLDER_PATH = CROP_REFERENCE_CATALOG + \"_\" + CROP_REFERENCE_YEAR\n",
    "START_OF_CROP_REFERENCE_YEAR = CROP_REFERENCE_YEAR + '-01-01'\n",
    "\n",
    "TEST_YEAR = '2017' # to be appended in the output filename as t(year)\n",
    "TEST_FOLDER_PATH = CROP_TEST_CATALOG + \"_\" + TEST_YEAR\n",
    "START_OF_TEST_YEAR = TEST_YEAR + '-01-01'"
   ]
  },
  {
   "cell_type": "markdown",
   "id": "51d2e850",
   "metadata": {},
   "source": [
    "## Function definitions"
   ]
  },
  {
   "cell_type": "markdown",
   "id": "3ff1a3a7",
   "metadata": {},
   "source": [
    "### Temporal signature extraction"
   ]
  },
  {
   "cell_type": "code",
   "execution_count": null,
   "id": "bea8e8f5",
   "metadata": {},
   "outputs": [],
   "source": [
    "def generate_temporal_signature(band,\n",
    "                                scan_mode,\n",
    "                                start_of_crop_reference_year,\n",
    "                                date_format,\n",
    "                                crop_reference_folder_path,\n",
    "                                crop_reference_geometry):\n",
    "    \n",
    "    crop_reference_list = []\n",
    "    for filename in glob.glob(os.path.join(crop_reference_folder_path, '*' + scan_mode + '*.tif')):\n",
    "        with open(os.path.join(os.getcwd(), filename), 'r') as f: # open in readonly mode\n",
    "            date = re.search(\"([0-9]{4}[0-9]{2}[0-9]{2})\", filename).group()\n",
    "            formatted_date = date[:4] + \"-\" + date[4:6] + \"-\" + date[6:8]\n",
    "            crop_reference_list.append([formatted_date, rxr.open_rasterio(filename,\n",
    "                                masked=True\n",
    "                                ).rio.clip(\n",
    "                                crop_reference_geometry.geometry.values, crop_reference_geometry.crs, from_disk=True\n",
    "                                )])\n",
    "    # Call for results checking\n",
    "    titles = [band]\n",
    "    ep.plot_bands(crop_reference_list[0][1].sel(band=band), title=titles)\n",
    "    \n",
    "    crop_reference_temporal_signature = []\n",
    "    for x in crop_reference_list:\n",
    "    # Temporary array for converting zeroes to NaN for obtaining actual mean of existing pixels\n",
    "        temp = x[1].sel(band=BAND).data\n",
    "        temp[temp == 0] = 'nan'\n",
    "        crop_reference_temporal_signature.append([(\n",
    "            dt.datetime.strptime(x[0], date_format) - dt.datetime.strptime(start_of_crop_reference_year, date_format)).days,\n",
    "            np.nanmean(temp)])\n",
    "\n",
    "    crop_reference_temporal_signature = np.array(crop_reference_temporal_signature)\n",
    "    crop_reference_temporal_signature[crop_reference_temporal_signature[:, 0].argsort()]\n",
    "    crop_reference_temporal_signature[np.isnan(crop_reference_temporal_signature)] = 0\n",
    "    crop_reference_temporal_signature_df = pd.DataFrame(\n",
    "        crop_reference_temporal_signature).rename(columns = {0: 'days', 1: 'band ' + str(band)})\n",
    "\n",
    "    crop_reference_temporal_signature_1d = np.array([row[1] for row in crop_reference_temporal_signature]).astype(np.double)\n",
    "    return crop_reference_temporal_signature_1d, crop_reference_temporal_signature_df"
   ]
  },
  {
   "cell_type": "markdown",
   "id": "f961a2f3",
   "metadata": {},
   "source": [
    "### Prepare the test dataset"
   ]
  },
  {
   "cell_type": "code",
   "execution_count": null,
   "id": "c0c0e28d",
   "metadata": {},
   "outputs": [],
   "source": [
    "def generate_test_dataset(band,\n",
    "                          scan_mode,\n",
    "                          test_folder_path,\n",
    "                          study_area_geom):\n",
    "    \n",
    "    test_data_list = []\n",
    "\n",
    "    for filename in glob.glob(os.path.join(test_folder_path, '*' + scan_mode + '*.tif')):\n",
    "        with open(os.path.join(os.getcwd(), filename), 'r') as f: # open in readonly mode\n",
    "            date = re.search(\"([0-9]{4}[0-9]{2}[0-9]{2})\", filename).group()\n",
    "            formatted_date = date[:4] + \"-\" + date[4:6] + \"-\" + date[6:8]\n",
    "            test_data_list.append([formatted_date, rxr.open_rasterio(filename,\n",
    "                                masked=True\n",
    "                                ).rio.clip(\n",
    "                                study_area_geom.geometry.values, study_area_geom.crs, from_disk=True\n",
    "                                )])\n",
    "            \n",
    "    # Making a sample plot of the test dataset\n",
    "    titles = [band]\n",
    "    ep.plot_bands(test_data_list[0][1].sel(band=band), title=titles)\n",
    "    \n",
    "    # Creation of new accessory constants based on test dataset\n",
    "    img_dimensions = test_data_list[0][1].sel(band=band).shape\n",
    "    \n",
    "    # Formulation of equivalents to pixel dimensions in lat-long degree measure\n",
    "    lon_increment = (study_area_geom.bounds['maxx'][0] - study_area_geom.bounds['minx'][0]) / img_dimensions[1]\n",
    "    lat_increment = (study_area_geom.bounds['maxy'][0] - study_area_geom.bounds['miny'][0]) / img_dimensions[0]\n",
    "\n",
    "    # CAUTION: Keep in mind that an image's Cartesian y-axis may be the opposite of a geographical y-axis\n",
    "    print(\"Longitude Increment: \", lon_increment, \"\\nLatitude Decrement: \", lat_increment)\n",
    "    \n",
    "    return test_data_list, img_dimensions, lon_increment, lat_increment"
   ]
  },
  {
   "cell_type": "markdown",
   "id": "ac843509",
   "metadata": {},
   "source": [
    "### DTW-based accumulated distance cost in map form\n",
    "### The heart (is the strongest muscle) of the code"
   ]
  },
  {
   "cell_type": "code",
   "execution_count": null,
   "id": "b771ac3b",
   "metadata": {},
   "outputs": [],
   "source": [
    "def generate_accumulated_distance_cost_map(test_data_list,\n",
    "                                           band,\n",
    "                                           study_area_geom,\n",
    "                                           start_of_test_year,\n",
    "                                           date_format,\n",
    "                                           crop_parcel_reference_temporal_signature_1d,\n",
    "                                           dtw_window_size,\n",
    "                                           dtw_psi,\n",
    "                                           dtw_max_dist,\n",
    "                                           dtw_use_pruning,\n",
    "                                           dtw_use_c,\n",
    "                                           img_dimensions,\n",
    "                                           lon_increment,\n",
    "                                           lat_increment):\n",
    "    \n",
    "    pixel_cost_array_df = pd.DataFrame(columns = [\"distance_cost\", \"x\", \"longitude\", \"y\", \"latitude\"])\n",
    "\n",
    "    lon_track = study_area_geom.bounds[\"minx\"][0]\n",
    "\n",
    "    for col in tqdm(range(img_dimensions[1] - 1)):\n",
    "        lat_track = study_area_geom.bounds[\"maxy\"][0]\n",
    "    \n",
    "        for row in range(img_dimensions[0] - 1):\n",
    "            pixel_timeseries_array = [] # Temporarily stores date and pixel data array information for DTW computation\n",
    "        \n",
    "            for count in range(len(test_data_list)):\n",
    "                # Skips blank and NaN pixels\n",
    "                if (test_data_list[count][1].sel(band=band).data[row][col] == 0. or\n",
    "                    math.isnan(test_data_list[count][1].sel(band=band).data[row][col])):\n",
    "                    continue\n",
    "            \n",
    "                # Procedures for valid pixels\n",
    "                else:\n",
    "                    day_of_acquisition = (dt.datetime.strptime(test_data_list[count][0], date_format) -\n",
    "                        dt.datetime.strptime(start_of_test_year, date_format)).days\n",
    "                    pixel_value = test_data_list[count][1].sel(band=band).data[row][col]\n",
    "                    pixel_timeseries_array.append([day_of_acquisition, pixel_value])\n",
    "                \n",
    "            # Skips the DTW calculator phase if timeseries array is empty\n",
    "            if not pixel_timeseries_array:\n",
    "                lat_track = lat_track - lat_increment\n",
    "                continue\n",
    "            \n",
    "            # activates the DTW calculator phase for non-empty array\n",
    "            else:\n",
    "                #pixel_timeseries_array[pixel_timeseries_array[:, 0].argsort()]\n",
    "                pixel_timeseries_array_1d = np.array([row[1] for row in pixel_timeseries_array]).astype(np.double)\n",
    "                distance_1d = dtw.distance(\n",
    "                    pixel_timeseries_array_1d,\n",
    "                    crop_parcel_reference_temporal_signature_1d,\n",
    "                    window=dtw_window_size,\n",
    "                    psi=dtw_psi,\n",
    "                    #max_dist = dtw_max_dist,\n",
    "                    use_pruning = dtw_use_pruning,\n",
    "                    use_c = dtw_use_c\n",
    "                )\n",
    "                pixel_cost_array_df.loc[len(pixel_cost_array_df)] = [distance_1d, col, lon_track, row, lat_track]\n",
    "                lat_track = lat_track - lat_increment\n",
    "            \n",
    "        lon_track = lon_track + lon_increment\n",
    "    \n",
    "    return pixel_cost_array_df"
   ]
  },
  {
   "cell_type": "markdown",
   "id": "edef5351-4ec7-473e-b73a-b71f2161f536",
   "metadata": {},
   "source": [
    "# The Main Body"
   ]
  },
  {
   "cell_type": "markdown",
   "id": "16e3dab9",
   "metadata": {},
   "source": [
    "## Creating the reference temporal signature based on scan mode"
   ]
  },
  {
   "cell_type": "code",
   "execution_count": null,
   "id": "4b1f2218-d69e-4572-ab3a-e28c0e8496e3",
   "metadata": {},
   "outputs": [],
   "source": [
    "crop_reference_temporal_signature_1D, crop_reference_temporal_signature_df = \\\n",
    "    generate_temporal_signature(BAND,\n",
    "                                SCAN_MODE,\n",
    "                                START_OF_CROP_REFERENCE_YEAR,\n",
    "                                DATE_FORMAT,\n",
    "                                CROP_REFERENCE_FOLDER_PATH,\n",
    "                                CROP_REFERENCE_GEOMETRY)\n",
    "\n",
    "alt.Chart(crop_reference_temporal_signature_df).mark_line().encode(\n",
    "    x = 'days',\n",
    "    y = 'band ' + str(BAND)\n",
    ")"
   ]
  },
  {
   "cell_type": "markdown",
   "id": "661185f1",
   "metadata": {},
   "source": [
    "## Preparing the test dataset"
   ]
  },
  {
   "cell_type": "code",
   "execution_count": null,
   "id": "b376e4d8",
   "metadata": {},
   "outputs": [],
   "source": [
    "test_data_list, IMG_DIMENSIONS, LON_INCREMENT, LAT_INCREMENT = generate_test_dataset(BAND,\n",
    "                                                                                     SCAN_MODE,\n",
    "                                                                                     TEST_FOLDER_PATH,\n",
    "                                                                                     STUDY_AREA_GEOM)"
   ]
  },
  {
   "cell_type": "markdown",
   "id": "0cb435d3",
   "metadata": {},
   "source": [
    "## Generation of accumulated distance cost map"
   ]
  },
  {
   "cell_type": "code",
   "execution_count": null,
   "id": "432859f7",
   "metadata": {},
   "outputs": [],
   "source": [
    "accumulated_distance_cost_map_df = generate_accumulated_distance_cost_map(test_data_list,\n",
    "                                                                          BAND,\n",
    "                                                                          STUDY_AREA_GEOM,\n",
    "                                                                          START_OF_TEST_YEAR,\n",
    "                                                                          DATE_FORMAT,\n",
    "                                                                          crop_reference_temporal_signature_1D,\n",
    "                                                                          DTW_WINDOW_SIZE,\n",
    "                                                                          DTW_PSI,\n",
    "                                                                          DTW_MAX_DIST,\n",
    "                                                                          DTW_USE_PRUNING,\n",
    "                                                                          DTW_USE_C,\n",
    "                                                                          IMG_DIMENSIONS,\n",
    "                                                                          LON_INCREMENT,\n",
    "                                                                          LAT_INCREMENT)"
   ]
  },
  {
   "cell_type": "code",
   "execution_count": null,
   "id": "c9cc1d6a",
   "metadata": {},
   "outputs": [],
   "source": [
    "accumulated_distance_cost_map_df"
   ]
  },
  {
   "cell_type": "markdown",
   "id": "18a6a6ba",
   "metadata": {},
   "source": [
    "# Output Generation"
   ]
  },
  {
   "cell_type": "markdown",
   "id": "1e8186b9",
   "metadata": {},
   "source": [
    "## Generates the full map"
   ]
  },
  {
   "cell_type": "code",
   "execution_count": null,
   "id": "98000c4c",
   "metadata": {},
   "outputs": [],
   "source": [
    "accumulated_distance_cost_map_gdf = gpd.GeoDataFrame(\n",
    "    accumulated_distance_cost_map_df, geometry=gpd.points_from_xy(\n",
    "        accumulated_distance_cost_map_df.longitude, accumulated_distance_cost_map_df.latitude), crs=\"EPSG:4326\"\n",
    ")\n",
    "\n",
    "# Conversion to raster form\n",
    "out_grid = make_geocube(\n",
    "    vector_data=accumulated_distance_cost_map_gdf,\n",
    "    measurements=['distance_cost'],\n",
    "    resolution=(-LON_INCREMENT, LAT_INCREMENT),\n",
    ")\n",
    "\n",
    "output_filename = \"out/distmap_\" + STUDY_AREA_NAME + \"_\" + CROP_REFERENCE_TYPE + \"_\" + SCAN_MODE +  \"_b\" + str(BAND) + \\\n",
    "    \"_refpclyear\"+ str(CROP_REFERENCE_YEAR) + \"_testyear\"+ str(TEST_YEAR) + \"_dtw_ws\" + str(DTW_WINDOW_SIZE) + \\\n",
    "    \"_psi\" + str(DTW_PSI) + \"_pr\" + str(DTW_USE_PRUNING) + \"_C\" + str(DTW_USE_C) + \"_full.tif\"\n",
    "out_grid.rio.to_raster(output_filename)"
   ]
  },
  {
   "cell_type": "markdown",
   "id": "b5cd3af8",
   "metadata": {},
   "source": [
    "## Generates the map with cost threshold"
   ]
  },
  {
   "cell_type": "code",
   "execution_count": null,
   "id": "00ef242f",
   "metadata": {},
   "outputs": [],
   "source": [
    "MAP_COST_THRESHOLD = 20\n",
    "\n",
    "accumulated_distance_cost_map_gdf_thr = accumulated_distance_cost_map_gdf[\n",
    "    accumulated_distance_cost_map_gdf.distance_cost <= MAP_COST_THRESHOLD]\n",
    "\n",
    "# Conversion to raster form\n",
    "out_grid = make_geocube(\n",
    "    vector_data=accumulated_distance_cost_map_gdf_thr,\n",
    "    measurements=['distance_cost'],\n",
    "    resolution=(-LON_INCREMENT, LAT_INCREMENT),\n",
    ")\n",
    "\n",
    "output_filename = \"out/distmap_\" + STUDY_AREA_NAME + \"_\" + CROP_REFERENCE_TYPE + \"_\" + SCAN_MODE +  \"_b\" + str(BAND) + \\\n",
    "    \"_refpclyear\"+ str(CROP_REFERENCE_YEAR) + \"_testyear\"+ str(TEST_YEAR) + \"_dtw_ws\" + str(DTW_WINDOW_SIZE) + \\\n",
    "    \"_psi\" + str(DTW_PSI) + \"_pr\" + str(DTW_USE_PRUNING) + \"_C\" + str(DTW_USE_C) + \"_t\" + str(MAP_COST_THRESHOLD) + \".tif\"\n",
    "out_grid.rio.to_raster(output_filename)"
   ]
  },
  {
   "cell_type": "code",
   "execution_count": null,
   "id": "a9dbff9b",
   "metadata": {},
   "outputs": [],
   "source": []
  }
 ],
 "metadata": {
  "kernelspec": {
   "display_name": "Python 3 (ipykernel)",
   "language": "python",
   "name": "python3"
  },
  "language_info": {
   "codemirror_mode": {
    "name": "ipython",
    "version": 3
   },
   "file_extension": ".py",
   "mimetype": "text/x-python",
   "name": "python",
   "nbconvert_exporter": "python",
   "pygments_lexer": "ipython3",
   "version": "3.9.12"
  }
 },
 "nbformat": 4,
 "nbformat_minor": 5
}
